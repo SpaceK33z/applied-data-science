{
 "cells": [
  {
   "cell_type": "markdown",
   "metadata": {},
   "source": [
    "# Case 2  - Heart disease"
   ]
  },
  {
   "cell_type": "markdown",
   "metadata": {},
   "source": [
    "Source: [UCI Heart Disease](http://archive.ics.uci.edu/ml/datasets/Heart+Disease)"
   ]
  },
  {
   "cell_type": "markdown",
   "metadata": {},
   "source": [
    "## Question\n",
    "\n",
    "Can you predict based on a patients data if he/she has a heart disease, and what type disease it would be?"
   ]
  },
  {
   "cell_type": "markdown",
   "metadata": {},
   "source": [
    "## The problem\n",
    "\n",
    "Based on a patients data it should be possible to see if there is a possiblity for a heart disease. Using records from other patients, for which the heart disease has been diagnosed, it is possible to extrapolate and predict whether a new patient also has a heart disease."
   ]
  },
  {
   "cell_type": "code",
   "execution_count": 1,
   "metadata": {
    "collapsed": true
   },
   "outputs": [],
   "source": [
    "import numpy as np\n",
    "import pandas as pd\n",
    "import matplotlib.pyplot as plt\n",
    "import seaborn as sns\n",
    "%matplotlib inline"
   ]
  },
  {
   "cell_type": "code",
   "execution_count": 2,
   "metadata": {
    "collapsed": false
   },
   "outputs": [
    {
     "name": "stdout",
     "output_type": "stream",
     "text": [
      "Records: 303\n"
     ]
    },
    {
     "data": {
      "text/html": [
       "<div>\n",
       "<table border=\"1\" class=\"dataframe\">\n",
       "  <thead>\n",
       "    <tr style=\"text-align: right;\">\n",
       "      <th></th>\n",
       "      <th>age</th>\n",
       "      <th>sex</th>\n",
       "      <th>cp</th>\n",
       "      <th>trestbps</th>\n",
       "      <th>chol</th>\n",
       "      <th>fbs</th>\n",
       "      <th>restecg</th>\n",
       "      <th>thalach</th>\n",
       "      <th>exang</th>\n",
       "      <th>oldpeak</th>\n",
       "      <th>slope</th>\n",
       "      <th>ca</th>\n",
       "      <th>thal</th>\n",
       "      <th>num</th>\n",
       "    </tr>\n",
       "  </thead>\n",
       "  <tbody>\n",
       "    <tr>\n",
       "      <th>0</th>\n",
       "      <td>63</td>\n",
       "      <td>1</td>\n",
       "      <td>1</td>\n",
       "      <td>145</td>\n",
       "      <td>233</td>\n",
       "      <td>1</td>\n",
       "      <td>2</td>\n",
       "      <td>150</td>\n",
       "      <td>0</td>\n",
       "      <td>2.3</td>\n",
       "      <td>3</td>\n",
       "      <td>0.0</td>\n",
       "      <td>6.0</td>\n",
       "      <td>0</td>\n",
       "    </tr>\n",
       "    <tr>\n",
       "      <th>1</th>\n",
       "      <td>67</td>\n",
       "      <td>1</td>\n",
       "      <td>4</td>\n",
       "      <td>160</td>\n",
       "      <td>286</td>\n",
       "      <td>0</td>\n",
       "      <td>2</td>\n",
       "      <td>108</td>\n",
       "      <td>1</td>\n",
       "      <td>1.5</td>\n",
       "      <td>2</td>\n",
       "      <td>3.0</td>\n",
       "      <td>3.0</td>\n",
       "      <td>2</td>\n",
       "    </tr>\n",
       "    <tr>\n",
       "      <th>2</th>\n",
       "      <td>67</td>\n",
       "      <td>1</td>\n",
       "      <td>4</td>\n",
       "      <td>120</td>\n",
       "      <td>229</td>\n",
       "      <td>0</td>\n",
       "      <td>2</td>\n",
       "      <td>129</td>\n",
       "      <td>1</td>\n",
       "      <td>2.6</td>\n",
       "      <td>2</td>\n",
       "      <td>2.0</td>\n",
       "      <td>7.0</td>\n",
       "      <td>1</td>\n",
       "    </tr>\n",
       "    <tr>\n",
       "      <th>3</th>\n",
       "      <td>37</td>\n",
       "      <td>1</td>\n",
       "      <td>3</td>\n",
       "      <td>130</td>\n",
       "      <td>250</td>\n",
       "      <td>0</td>\n",
       "      <td>0</td>\n",
       "      <td>187</td>\n",
       "      <td>0</td>\n",
       "      <td>3.5</td>\n",
       "      <td>3</td>\n",
       "      <td>0.0</td>\n",
       "      <td>3.0</td>\n",
       "      <td>0</td>\n",
       "    </tr>\n",
       "    <tr>\n",
       "      <th>4</th>\n",
       "      <td>41</td>\n",
       "      <td>0</td>\n",
       "      <td>2</td>\n",
       "      <td>130</td>\n",
       "      <td>204</td>\n",
       "      <td>0</td>\n",
       "      <td>2</td>\n",
       "      <td>172</td>\n",
       "      <td>0</td>\n",
       "      <td>1.4</td>\n",
       "      <td>1</td>\n",
       "      <td>0.0</td>\n",
       "      <td>3.0</td>\n",
       "      <td>0</td>\n",
       "    </tr>\n",
       "  </tbody>\n",
       "</table>\n",
       "</div>"
      ],
      "text/plain": [
       "   age  sex  cp  trestbps  chol  fbs  restecg  thalach  exang  oldpeak  slope  \\\n",
       "0   63    1   1       145   233    1        2      150      0      2.3      3   \n",
       "1   67    1   4       160   286    0        2      108      1      1.5      2   \n",
       "2   67    1   4       120   229    0        2      129      1      2.6      2   \n",
       "3   37    1   3       130   250    0        0      187      0      3.5      3   \n",
       "4   41    0   2       130   204    0        2      172      0      1.4      1   \n",
       "\n",
       "    ca thal  num  \n",
       "0  0.0  6.0    0  \n",
       "1  3.0  3.0    2  \n",
       "2  2.0  7.0    1  \n",
       "3  0.0  3.0    0  \n",
       "4  0.0  3.0    0  "
      ]
     },
     "execution_count": 2,
     "metadata": {},
     "output_type": "execute_result"
    }
   ],
   "source": [
    "df = pd.read_csv('ml-week12/processed.cleveland.data', sep=',', header=None)\n",
    "df.columns = [\n",
    "    'age', 'sex', 'cp', 'trestbps', 'chol', 'fbs', 'restecg', 'thalach',\n",
    "    'exang', 'oldpeak', 'slope', 'ca', 'thal', 'num'\n",
    "]\n",
    "\n",
    "print('Records: ' + str(len(df)))\n",
    "df.head()"
   ]
  },
  {
   "cell_type": "markdown",
   "metadata": {},
   "source": [
    "## Features and labels\n",
    "\n",
    "The label is the `num` column. This represents the diagnosis of the heart disease. Zero means that there is no heart disease. A value above zero means that there is a type of heart disease found.\n",
    "\n",
    "Features with their description:\n",
    "\n",
    "1. age: age in years\n",
    "1. sex: sex (1 = male; 0 = female)\n",
    "1. cp: chest pain type (1: typical angina, 2: atypical angina, 3: non-anginal pain, 4: asymptomatic)\n",
    "1. trestbps: resting blood pressure (in mm Hg on admission to the hospital)\n",
    "1. chol: serum cholestoral in mg/dl\n",
    "1. fbs: (fasting blood sugar > 120 mg/dl)  (1 = true; 0 = false)\n",
    "1. restecg: resting electrocardiographic results (0 = normal, 1 = having ST-T wave abnormality, 2 = showing probable or definite left ventricular hypertrophy)\n",
    "1. thalach: maximum heart rate achieved\n",
    "1. exang: exercise induced angina (1 = yes; 0 = no)\n",
    "1. oldpeak: ST depression induced by exercise relative to rest\n",
    "1. slope: the slope of the peak exercise ST segment (1 = upsloping, 2 = flat, 3 = downsloping)\n",
    "1. ca: number of major vessels (0-3) colored by flourosopy\n",
    "1. thal: 3 = normal; 6 = fixed defect; 7 = reversable defect"
   ]
  },
  {
   "cell_type": "code",
   "execution_count": 3,
   "metadata": {
    "collapsed": false
   },
   "outputs": [
    {
     "data": {
      "text/plain": [
       "array([0, 2, 1, 3, 4])"
      ]
     },
     "execution_count": 3,
     "metadata": {},
     "output_type": "execute_result"
    }
   ],
   "source": [
    "# Unique values for the diagnosis.\n",
    "df['num'].unique()"
   ]
  },
  {
   "cell_type": "code",
   "execution_count": 4,
   "metadata": {
    "collapsed": false
   },
   "outputs": [
    {
     "data": {
      "text/plain": [
       "age         float64\n",
       "sex         float64\n",
       "cp          float64\n",
       "trestbps    float64\n",
       "chol        float64\n",
       "fbs         float64\n",
       "restecg     float64\n",
       "thalach     float64\n",
       "exang       float64\n",
       "oldpeak     float64\n",
       "slope       float64\n",
       "ca           object\n",
       "thal         object\n",
       "num           int64\n",
       "dtype: object"
      ]
     },
     "execution_count": 4,
     "metadata": {},
     "output_type": "execute_result"
    }
   ],
   "source": [
    "df.dtypes"
   ]
  },
  {
   "cell_type": "markdown",
   "metadata": {},
   "source": [
    "This shows that `ca` and `thal` are objects. They should be floats."
   ]
  },
  {
   "cell_type": "code",
   "execution_count": 5,
   "metadata": {
    "collapsed": false
   },
   "outputs": [
    {
     "name": "stdout",
     "output_type": "stream",
     "text": [
      "Unknown value count for ca: 4\n",
      "Unknown value count for thal: 2\n"
     ]
    }
   ],
   "source": [
    "print('Unknown value count for ca: ' + str(len(df[df['ca'].str.contains('\\?')].index)))\n",
    "print('Unknown value count for thal: ' + str(len(df[df['thal'].str.contains('\\?')].index)))"
   ]
  },
  {
   "cell_type": "code",
   "execution_count": 6,
   "metadata": {
    "collapsed": false
   },
   "outputs": [],
   "source": [
    "# Cleanup dataset.\n",
    "# TODO: Maybe remove the records that have incomplete data instead of just setting 0?\n",
    "df.replace({'?': 0}, inplace=True)\n",
    "# There should only be numbers in the `ca` and `thal` columns now, so lets convert them to a float type.\n",
    "df[['ca', 'thal']] = df[['ca', 'thal']].astype(float)"
   ]
  },
  {
   "cell_type": "markdown",
   "metadata": {},
   "source": [
    "## Description"
   ]
  },
  {
   "cell_type": "code",
   "execution_count": 7,
   "metadata": {
    "collapsed": false
   },
   "outputs": [
    {
     "data": {
      "text/html": [
       "<div>\n",
       "<table border=\"1\" class=\"dataframe\">\n",
       "  <thead>\n",
       "    <tr style=\"text-align: right;\">\n",
       "      <th></th>\n",
       "      <th>age</th>\n",
       "      <th>sex</th>\n",
       "      <th>cp</th>\n",
       "      <th>trestbps</th>\n",
       "      <th>chol</th>\n",
       "      <th>fbs</th>\n",
       "      <th>restecg</th>\n",
       "      <th>thalach</th>\n",
       "      <th>exang</th>\n",
       "      <th>oldpeak</th>\n",
       "      <th>slope</th>\n",
       "      <th>ca</th>\n",
       "      <th>thal</th>\n",
       "      <th>num</th>\n",
       "    </tr>\n",
       "  </thead>\n",
       "  <tbody>\n",
       "    <tr>\n",
       "      <th>count</th>\n",
       "      <td>303.000000</td>\n",
       "      <td>303.000000</td>\n",
       "      <td>303.000000</td>\n",
       "      <td>303.000000</td>\n",
       "      <td>303.000000</td>\n",
       "      <td>303.000000</td>\n",
       "      <td>303.000000</td>\n",
       "      <td>303.000000</td>\n",
       "      <td>303.000000</td>\n",
       "      <td>303.000000</td>\n",
       "      <td>303.000000</td>\n",
       "      <td>303.000000</td>\n",
       "      <td>303.000000</td>\n",
       "      <td>303.000000</td>\n",
       "    </tr>\n",
       "    <tr>\n",
       "      <th>mean</th>\n",
       "      <td>54.438944</td>\n",
       "      <td>0.679868</td>\n",
       "      <td>3.158416</td>\n",
       "      <td>131.689769</td>\n",
       "      <td>246.693069</td>\n",
       "      <td>0.148515</td>\n",
       "      <td>0.990099</td>\n",
       "      <td>149.607261</td>\n",
       "      <td>0.326733</td>\n",
       "      <td>1.039604</td>\n",
       "      <td>1.600660</td>\n",
       "      <td>0.663366</td>\n",
       "      <td>4.702970</td>\n",
       "      <td>0.937294</td>\n",
       "    </tr>\n",
       "    <tr>\n",
       "      <th>std</th>\n",
       "      <td>9.038662</td>\n",
       "      <td>0.467299</td>\n",
       "      <td>0.960126</td>\n",
       "      <td>17.599748</td>\n",
       "      <td>51.776918</td>\n",
       "      <td>0.356198</td>\n",
       "      <td>0.994971</td>\n",
       "      <td>22.875003</td>\n",
       "      <td>0.469794</td>\n",
       "      <td>1.161075</td>\n",
       "      <td>0.616226</td>\n",
       "      <td>0.934375</td>\n",
       "      <td>1.971038</td>\n",
       "      <td>1.228536</td>\n",
       "    </tr>\n",
       "    <tr>\n",
       "      <th>min</th>\n",
       "      <td>29.000000</td>\n",
       "      <td>0.000000</td>\n",
       "      <td>1.000000</td>\n",
       "      <td>94.000000</td>\n",
       "      <td>126.000000</td>\n",
       "      <td>0.000000</td>\n",
       "      <td>0.000000</td>\n",
       "      <td>71.000000</td>\n",
       "      <td>0.000000</td>\n",
       "      <td>0.000000</td>\n",
       "      <td>1.000000</td>\n",
       "      <td>0.000000</td>\n",
       "      <td>0.000000</td>\n",
       "      <td>0.000000</td>\n",
       "    </tr>\n",
       "    <tr>\n",
       "      <th>25%</th>\n",
       "      <td>48.000000</td>\n",
       "      <td>0.000000</td>\n",
       "      <td>3.000000</td>\n",
       "      <td>120.000000</td>\n",
       "      <td>211.000000</td>\n",
       "      <td>0.000000</td>\n",
       "      <td>0.000000</td>\n",
       "      <td>133.500000</td>\n",
       "      <td>0.000000</td>\n",
       "      <td>0.000000</td>\n",
       "      <td>1.000000</td>\n",
       "      <td>0.000000</td>\n",
       "      <td>3.000000</td>\n",
       "      <td>0.000000</td>\n",
       "    </tr>\n",
       "    <tr>\n",
       "      <th>50%</th>\n",
       "      <td>56.000000</td>\n",
       "      <td>1.000000</td>\n",
       "      <td>3.000000</td>\n",
       "      <td>130.000000</td>\n",
       "      <td>241.000000</td>\n",
       "      <td>0.000000</td>\n",
       "      <td>1.000000</td>\n",
       "      <td>153.000000</td>\n",
       "      <td>0.000000</td>\n",
       "      <td>0.800000</td>\n",
       "      <td>2.000000</td>\n",
       "      <td>0.000000</td>\n",
       "      <td>3.000000</td>\n",
       "      <td>0.000000</td>\n",
       "    </tr>\n",
       "    <tr>\n",
       "      <th>75%</th>\n",
       "      <td>61.000000</td>\n",
       "      <td>1.000000</td>\n",
       "      <td>4.000000</td>\n",
       "      <td>140.000000</td>\n",
       "      <td>275.000000</td>\n",
       "      <td>0.000000</td>\n",
       "      <td>2.000000</td>\n",
       "      <td>166.000000</td>\n",
       "      <td>1.000000</td>\n",
       "      <td>1.600000</td>\n",
       "      <td>2.000000</td>\n",
       "      <td>1.000000</td>\n",
       "      <td>7.000000</td>\n",
       "      <td>2.000000</td>\n",
       "    </tr>\n",
       "    <tr>\n",
       "      <th>max</th>\n",
       "      <td>77.000000</td>\n",
       "      <td>1.000000</td>\n",
       "      <td>4.000000</td>\n",
       "      <td>200.000000</td>\n",
       "      <td>564.000000</td>\n",
       "      <td>1.000000</td>\n",
       "      <td>2.000000</td>\n",
       "      <td>202.000000</td>\n",
       "      <td>1.000000</td>\n",
       "      <td>6.200000</td>\n",
       "      <td>3.000000</td>\n",
       "      <td>3.000000</td>\n",
       "      <td>7.000000</td>\n",
       "      <td>4.000000</td>\n",
       "    </tr>\n",
       "  </tbody>\n",
       "</table>\n",
       "</div>"
      ],
      "text/plain": [
       "              age         sex          cp    trestbps        chol         fbs  \\\n",
       "count  303.000000  303.000000  303.000000  303.000000  303.000000  303.000000   \n",
       "mean    54.438944    0.679868    3.158416  131.689769  246.693069    0.148515   \n",
       "std      9.038662    0.467299    0.960126   17.599748   51.776918    0.356198   \n",
       "min     29.000000    0.000000    1.000000   94.000000  126.000000    0.000000   \n",
       "25%     48.000000    0.000000    3.000000  120.000000  211.000000    0.000000   \n",
       "50%     56.000000    1.000000    3.000000  130.000000  241.000000    0.000000   \n",
       "75%     61.000000    1.000000    4.000000  140.000000  275.000000    0.000000   \n",
       "max     77.000000    1.000000    4.000000  200.000000  564.000000    1.000000   \n",
       "\n",
       "          restecg     thalach       exang     oldpeak       slope          ca  \\\n",
       "count  303.000000  303.000000  303.000000  303.000000  303.000000  303.000000   \n",
       "mean     0.990099  149.607261    0.326733    1.039604    1.600660    0.663366   \n",
       "std      0.994971   22.875003    0.469794    1.161075    0.616226    0.934375   \n",
       "min      0.000000   71.000000    0.000000    0.000000    1.000000    0.000000   \n",
       "25%      0.000000  133.500000    0.000000    0.000000    1.000000    0.000000   \n",
       "50%      1.000000  153.000000    0.000000    0.800000    2.000000    0.000000   \n",
       "75%      2.000000  166.000000    1.000000    1.600000    2.000000    1.000000   \n",
       "max      2.000000  202.000000    1.000000    6.200000    3.000000    3.000000   \n",
       "\n",
       "             thal         num  \n",
       "count  303.000000  303.000000  \n",
       "mean     4.702970    0.937294  \n",
       "std      1.971038    1.228536  \n",
       "min      0.000000    0.000000  \n",
       "25%      3.000000    0.000000  \n",
       "50%      3.000000    0.000000  \n",
       "75%      7.000000    2.000000  \n",
       "max      7.000000    4.000000  "
      ]
     },
     "execution_count": 7,
     "metadata": {},
     "output_type": "execute_result"
    }
   ],
   "source": [
    "# Show some descriptive information about the dataset.\n",
    "df.describe()"
   ]
  },
  {
   "cell_type": "markdown",
   "metadata": {},
   "source": [
    "Now visualize how the features and label relate to each other. This helps in excluding unnecessary features."
   ]
  },
  {
   "cell_type": "code",
   "execution_count": 8,
   "metadata": {
    "collapsed": false
   },
   "outputs": [
    {
     "name": "stderr",
     "output_type": "stream",
     "text": [
      "/Users/kees/anaconda/lib/python3.4/site-packages/matplotlib/collections.py:590: FutureWarning: elementwise comparison failed; returning scalar instead, but in the future will perform elementwise comparison\n",
      "  if self._edgecolors == str('face'):\n"
     ]
    },
    {
     "data": {
      "image/png": "[encoded data removed]",
      "text/plain": [
       "<matplotlib.figure.Figure at 0x10ad49780>"
      ]
     },
     "metadata": {},
     "output_type": "display_data"
    }
   ],
   "source": [
    "cols = df.columns.values\n",
    "cm = np.corrcoef(df[cols].values, rowvar=0)\n",
    "sns.set(font_scale=1.2)\n",
    "hm = sns.heatmap(cm,\n",
    "    cbar=True,\n",
    "    annot=True,\n",
    "    square=True,\n",
    "    fmt='.2f',\n",
    "    annot_kws={'size': 12},\n",
    "    yticklabels=cols,\n",
    "    xticklabels=cols)\n",
    "plt.show()"
   ]
  },
  {
   "cell_type": "code",
   "execution_count": 9,
   "metadata": {
    "collapsed": false
   },
   "outputs": [],
   "source": [
    "# Separate the features from the label.\n",
    "df_X = df[['age', 'sex', 'cp', 'trestbps', 'chol', 'fbs', 'restecg', 'thalach', 'exang', 'oldpeak', 'slope', 'ca', 'thal']]\n",
    "df_y = df['num']"
   ]
  },
  {
   "cell_type": "markdown",
   "metadata": {},
   "source": [
    "## K-Means"
   ]
  },
  {
   "cell_type": "code",
   "execution_count": 10,
   "metadata": {
    "collapsed": true
   },
   "outputs": [],
   "source": [
    "from sklearn import metrics\n",
    "\n",
    "def measure_performance(X, y, clf, show_accuracy=True, show_classification_report=True, show_confusion_matrix=True):\n",
    "    y_pred = clf.predict(X)\n",
    "    if show_accuracy:\n",
    "        print(\"Accuracy:{0:.3f}\".format(metrics.accuracy_score(y, y_pred)),\"\\n\")\n",
    "\n",
    "    if show_classification_report:\n",
    "        print(\"Classification report\")\n",
    "        print(metrics.classification_report(y,y_pred),\"\\n\")\n",
    "\n",
    "    if show_confusion_matrix:\n",
    "        print(\"Confusion matrix\")\n",
    "        print(metrics.confusion_matrix(y,y_pred),\"\\n\")"
   ]
  },
  {
   "cell_type": "markdown",
   "metadata": {},
   "source": [
    "Visualize if K-Means classifies the dataset correctly by showing two features. "
   ]
  },
  {
   "cell_type": "code",
   "execution_count": 11,
   "metadata": {
    "collapsed": false
   },
   "outputs": [
    {
     "name": "stderr",
     "output_type": "stream",
     "text": [
      "/Users/kees/anaconda/lib/python3.4/site-packages/matplotlib/collections.py:590: FutureWarning: elementwise comparison failed; returning scalar instead, but in the future will perform elementwise comparison\n",
      "  if self._edgecolors == str('face'):\n"
     ]
    },
    {
     "data": {
      "image/png": "[encoded data removed]",
      "text/plain": [
       "<matplotlib.figure.Figure at 0x10ad97780>"
      ]
     },
     "metadata": {},
     "output_type": "display_data"
    }
   ],
   "source": [
    "from sklearn.cluster import KMeans\n",
    "from sklearn.metrics import confusion_matrix\n",
    "\n",
    "df_X_values = df_X.values\n",
    "est = KMeans(n_clusters=5,random_state=10)\n",
    "y_kmeans = est.fit_predict(df_X_values)\n",
    "\n",
    "plt.scatter(df_X_values[:, 0], df_X_values[:, 4], c=y_kmeans, s=50, cmap='rainbow');"
   ]
  },
  {
   "cell_type": "code",
   "execution_count": 12,
   "metadata": {
    "collapsed": false
   },
   "outputs": [
    {
     "name": "stderr",
     "output_type": "stream",
     "text": [
      "/Users/kees/anaconda/lib/python3.4/site-packages/matplotlib/collections.py:590: FutureWarning: elementwise comparison failed; returning scalar instead, but in the future will perform elementwise comparison\n",
      "  if self._edgecolors == str('face'):\n"
     ]
    },
    {
     "data": {
      "image/png": "[encoded data removed]",
      "text/plain": [
       "<matplotlib.figure.Figure at 0x10b2664a8>"
      ]
     },
     "metadata": {},
     "output_type": "display_data"
    }
   ],
   "source": [
    "plt.scatter(df_X_values[:, 3], df_X_values[:, 12], c=y_kmeans, s=50, cmap='rainbow');"
   ]
  },
  {
   "cell_type": "code",
   "execution_count": 30,
   "metadata": {
    "collapsed": false
   },
   "outputs": [
    {
     "name": "stdout",
     "output_type": "stream",
     "text": [
      "[0 0 0 0 0 0 0 0 0 0 0 0 0 0 0 0 0 0 0 0 0 0 0 0 0 0 0 0 0 0 0 0 0 0 0 0 0\n",
      " 0 0 0 0 0 0 0 0 0 0 0 0 0 0 0 0 0 0 0 0 0 0 0 0 0 0 0 0 0 0 0 0 0 0 0 0 0\n",
      " 0 0 0 0 0 0 0 0 0 0 0 0 0 0 0 0 0 0 0 0 0 0 0 0 0 0 0 0 0 0 0 0 0 0 0 0 0\n",
      " 0 0 0 0 0 0 0 0 0 0 0 0 0 0 0 0 0 0 0 0 0 0 0 0 0 0 0 0 0 0 0 0 0 0 0 0 0\n",
      " 0 0 0 0 0 0 0 0 0 0 0 0 0 0 0 0 0 0 0 0 0 0 0 0 0 0 0 0 0 0 0 0 0 0 0 0 0\n",
      " 0 0 0 0 0 0 0 0 0 0 0 0 0 0 0 0 0 0 0 0 0 0 0 0 0 0 0 0 0 0 0 0 0 0 0 0 0\n",
      " 0 0 0 0 0 0 0 0 0 0 0 0 0 0 0 0 0 0 0 0 0 0 0 0 0 0 0 0 0 0 0 0 0 0 0 0 0\n",
      " 0 0 0 0 0 0 0 0 0 0 0 0 0 0 0 0 0 0 0 0 0 0 0 0 0 0 0 0 0 0 0 0 0 0 0 0 0\n",
      " 0 0 0 0 0 0 0]\n"
     ]
    }
   ],
   "source": [
    "# Permute labels from the clusters so that they are the same as the real labels.\n",
    "from scipy.stats import mode\n",
    "\n",
    "y = df_y.as_matrix()\n",
    "labels = np.zeros_like(y_kmeans)\n",
    "for i in range(5):\n",
    "    mask = (y_kmeans == i)\n",
    "    labels[mask] = mode(y[mask])[0]\n",
    "print(labels)"
   ]
  },
  {
   "cell_type": "code",
   "execution_count": 14,
   "metadata": {
    "collapsed": false
   },
   "outputs": [
    {
     "name": "stderr",
     "output_type": "stream",
     "text": [
      "/Users/kees/anaconda/lib/python3.4/site-packages/matplotlib/collections.py:590: FutureWarning: elementwise comparison failed; returning scalar instead, but in the future will perform elementwise comparison\n",
      "  if self._edgecolors == str('face'):\n"
     ]
    },
    {
     "data": {
      "image/png": "[encoded data removed]",
      "text/plain": [
       "<matplotlib.figure.Figure at 0x101aca240>"
      ]
     },
     "metadata": {},
     "output_type": "display_data"
    }
   ],
   "source": [
    "plt.imshow(confusion_matrix(df_y, labels), cmap='Blues', interpolation='nearest')\n",
    "plt.colorbar()\n",
    "plt.grid(False)\n",
    "plt.ylabel('true')\n",
    "plt.xlabel('predicted');"
   ]
  },
  {
   "cell_type": "markdown",
   "metadata": {},
   "source": [
    "Clearly the accuracy is not good.\n",
    "\n",
    "I've researched why all predicted labels are zero. This is because when permuting the labels, it gets all predictions per cluster, and tries to guess the corresponding label based on what value is the most ocurring. But, the most occuring value is 0 (no breast cancer), so this fails miserably.\n",
    "\n",
    "I don't think it is possible to use K-Means here."
   ]
  },
  {
   "cell_type": "markdown",
   "metadata": {},
   "source": [
    "## Classifiers"
   ]
  },
  {
   "cell_type": "code",
   "execution_count": 15,
   "metadata": {
    "collapsed": false
   },
   "outputs": [
    {
     "data": {
      "text/plain": [
       "((227, 13), (227,))"
      ]
     },
     "execution_count": 15,
     "metadata": {},
     "output_type": "execute_result"
    }
   ],
   "source": [
    "# Build a decision tree\n",
    "from sklearn.cross_validation import train_test_split\n",
    "\n",
    "X_train, X_test, y_train, y_test = train_test_split(df_X, df_y, test_size=0.25, random_state=22)\n",
    "\n",
    "# Show the 'array' size of the numerical data\n",
    "X_train.shape, y_train.shape"
   ]
  },
  {
   "cell_type": "markdown",
   "metadata": {},
   "source": [
    "Play with some classifiers to see which is the most accurate."
   ]
  },
  {
   "cell_type": "code",
   "execution_count": 16,
   "metadata": {
    "collapsed": false
   },
   "outputs": [
    {
     "name": "stdout",
     "output_type": "stream",
     "text": [
      "Accuracy:0.618 \n",
      "\n"
     ]
    }
   ],
   "source": [
    "from sklearn import tree\n",
    "\n",
    "clf_dt = tree.DecisionTreeClassifier(max_depth=3)\n",
    "clf_dt = clf_dt.fit(X_train, y_train)\n",
    "\n",
    "# And call this method for the training data (display only accuracy)\n",
    "measure_performance(X_test, y_test, clf_dt, show_classification_report=False, show_confusion_matrix=False)"
   ]
  },
  {
   "cell_type": "code",
   "execution_count": 17,
   "metadata": {
    "collapsed": false
   },
   "outputs": [
    {
     "name": "stdout",
     "output_type": "stream",
     "text": [
      "Accuracy:0.671 \n",
      "\n"
     ]
    }
   ],
   "source": [
    "from sklearn.ensemble import RandomForestClassifier\n",
    "\n",
    "clf_rf = RandomForestClassifier(n_estimators=100)\n",
    "\n",
    "clf_rf = clf_rf.fit(X_train, y_train)\n",
    "\n",
    "measure_performance(X_test, y_test, clf_rf, show_classification_report=False, show_confusion_matrix=False)"
   ]
  },
  {
   "cell_type": "markdown",
   "metadata": {},
   "source": [
    "Okay, this accuracy is not great. Now remove some features to see if the accuracy improves."
   ]
  },
  {
   "cell_type": "code",
   "execution_count": 18,
   "metadata": {
    "collapsed": false
   },
   "outputs": [
    {
     "name": "stdout",
     "output_type": "stream",
     "text": [
      "Accuracy:0.592 \n",
      "\n"
     ]
    }
   ],
   "source": [
    "df_X2 = df[['cp', 'trestbps', 'chol', 'fbs', 'restecg', 'thalach', 'exang', 'oldpeak', 'slope', 'ca', 'thal']]\n",
    "\n",
    "X_train2, X_test2, y_train2, y_test2 = train_test_split(df_X2, df_y, test_size=0.25, random_state=22)\n",
    "\n",
    "clf_rf2 = RandomForestClassifier(n_estimators=60, max_features=None, max_depth=4)\n",
    "\n",
    "clf_rf2 = clf_rf2.fit(X_train2, y_train2)\n",
    "\n",
    "measure_performance(X_test2, y_test2, clf_rf2, show_classification_report=False, show_confusion_matrix=False)"
   ]
  },
  {
   "cell_type": "code",
   "execution_count": 19,
   "metadata": {
    "collapsed": false
   },
   "outputs": [
    {
     "name": "stdout",
     "output_type": "stream",
     "text": [
      "Accuracy:0.618 \n",
      "\n"
     ]
    }
   ],
   "source": [
    "clf_dt2 = tree.DecisionTreeClassifier(max_depth=3)\n",
    "\n",
    "clf_dt2 = clf_dt2.fit(X_train2, y_train2)\n",
    "\n",
    "measure_performance(X_test2, y_test2, clf_dt2, show_classification_report=False, show_confusion_matrix=False)"
   ]
  },
  {
   "cell_type": "markdown",
   "metadata": {},
   "source": [
    "The `DecisionTreeClassifier` still performs worse then the `RandomForestClassifier`. It looks like that removing the age and sex features has a small positive impact on the accuracy. So for the real prediction it's better to remove those features."
   ]
  },
  {
   "cell_type": "code",
   "execution_count": 20,
   "metadata": {
    "collapsed": false
   },
   "outputs": [
    {
     "name": "stdout",
     "output_type": "stream",
     "text": [
      "For settings: {'max_depth': 1}\n",
      "Accuracy:0.579 \n",
      "\n",
      "For settings: {'max_depth': 2}\n",
      "Accuracy:0.632 \n",
      "\n",
      "For settings: {'max_depth': 3}\n",
      "Accuracy:0.592 \n",
      "\n",
      "For settings: {'max_depth': 4}\n",
      "Accuracy:0.684 \n",
      "\n",
      "For settings: {'max_depth': 5}\n",
      "Accuracy:0.618 \n",
      "\n",
      "For settings: {'max_depth': 6}\n",
      "Accuracy:0.605 \n",
      "\n",
      "For settings: {'max_depth': 7}\n",
      "Accuracy:0.579 \n",
      "\n",
      "For settings: {'max_depth': 8}\n",
      "Accuracy:0.645 \n",
      "\n",
      "For settings: {'max_depth': 9}\n",
      "Accuracy:0.645 \n",
      "\n",
      "For settings: {'max_depth': None}\n",
      "Accuracy:0.605 \n",
      "\n"
     ]
    }
   ],
   "source": [
    "def trainRandom(**kwargs):\n",
    "    # Use parameter unpacking to pass through params.\n",
    "    clf_r = RandomForestClassifier(**kwargs)\n",
    "\n",
    "    clf_r = clf_r.fit(X_train2, y_train2)\n",
    "    \n",
    "    print('For settings: ' + str(kwargs))\n",
    "    measure_performance(X_test2, y_test2, clf_r, show_classification_report=False, show_confusion_matrix=False)\n",
    "\n",
    "# Test max depth\n",
    "depths = list(range(1, 10))\n",
    "depths.append(None)\n",
    "for i in depths:\n",
    "    trainRandom(max_depth=i)"
   ]
  },
  {
   "cell_type": "code",
   "execution_count": 21,
   "metadata": {
    "collapsed": false
   },
   "outputs": [
    {
     "name": "stdout",
     "output_type": "stream",
     "text": [
      "For settings: {'n_estimators': 5}\n",
      "Accuracy:0.539 \n",
      "\n",
      "For settings: {'n_estimators': 7}\n",
      "Accuracy:0.566 \n",
      "\n",
      "For settings: {'n_estimators': 10}\n",
      "Accuracy:0.632 \n",
      "\n",
      "For settings: {'n_estimators': 20}\n",
      "Accuracy:0.632 \n",
      "\n",
      "For settings: {'n_estimators': 30}\n",
      "Accuracy:0.645 \n",
      "\n",
      "For settings: {'n_estimators': 40}\n",
      "Accuracy:0.632 \n",
      "\n",
      "For settings: {'n_estimators': 50}\n",
      "Accuracy:0.632 \n",
      "\n",
      "For settings: {'n_estimators': 60}\n",
      "Accuracy:0.658 \n",
      "\n",
      "For settings: {'n_estimators': 70}\n",
      "Accuracy:0.645 \n",
      "\n",
      "For settings: {'n_estimators': 80}\n",
      "Accuracy:0.658 \n",
      "\n",
      "For settings: {'n_estimators': 90}\n",
      "Accuracy:0.618 \n",
      "\n",
      "For settings: {'n_estimators': 100}\n",
      "Accuracy:0.618 \n",
      "\n",
      "For settings: {'n_estimators': 200}\n",
      "Accuracy:0.645 \n",
      "\n",
      "For settings: {'n_estimators': 300}\n",
      "Accuracy:0.658 \n",
      "\n"
     ]
    }
   ],
   "source": [
    "# Test n_estimators\n",
    "estimators = [5, 7, 10, 20, 30, 40, 50, 60, 70, 80, 90, 100, 200, 300]\n",
    "\n",
    "for i in estimators:\n",
    "    trainRandom(n_estimators=i)"
   ]
  },
  {
   "cell_type": "code",
   "execution_count": 22,
   "metadata": {
    "collapsed": false
   },
   "outputs": [
    {
     "name": "stdout",
     "output_type": "stream",
     "text": [
      "For settings: {'max_features': 1}\n",
      "Accuracy:0.605 \n",
      "\n",
      "For settings: {'max_features': 2}\n",
      "Accuracy:0.671 \n",
      "\n",
      "For settings: {'max_features': 3}\n",
      "Accuracy:0.711 \n",
      "\n",
      "For settings: {'max_features': 4}\n",
      "Accuracy:0.605 \n",
      "\n",
      "For settings: {'max_features': 5}\n",
      "Accuracy:0.566 \n",
      "\n",
      "For settings: {'max_features': 6}\n",
      "Accuracy:0.645 \n",
      "\n",
      "For settings: {'max_features': 7}\n",
      "Accuracy:0.632 \n",
      "\n",
      "For settings: {'max_features': 8}\n",
      "Accuracy:0.645 \n",
      "\n",
      "For settings: {'max_features': 9}\n",
      "Accuracy:0.684 \n",
      "\n",
      "For settings: {'max_features': 10}\n",
      "Accuracy:0.658 \n",
      "\n",
      "For settings: {'max_features': 11}\n",
      "Accuracy:0.579 \n",
      "\n",
      "For settings: {'max_features': 'sqrt'}\n",
      "Accuracy:0.645 \n",
      "\n",
      "For settings: {'max_features': 'log2'}\n",
      "Accuracy:0.658 \n",
      "\n",
      "For settings: {'max_features': None}\n",
      "Accuracy:0.618 \n",
      "\n"
     ]
    }
   ],
   "source": [
    "# Test max_features with all possible settings\n",
    "features = [1, 2, 3, 4, 5, 6, 7, 8, 9, 10, 11, 'sqrt', 'log2', None]\n",
    "\n",
    "for i in features:\n",
    "    trainRandom(max_features=i)"
   ]
  },
  {
   "cell_type": "markdown",
   "metadata": {},
   "source": [
    "This is nice, but the parameters behave different if another parameter is changed. So I want to test every parameter combined. This results in > 1900 tests, so we want to determine the best parameter combination automatically."
   ]
  },
  {
   "cell_type": "code",
   "execution_count": 23,
   "metadata": {
    "collapsed": false
   },
   "outputs": [
    {
     "name": "stdout",
     "output_type": "stream",
     "text": [
      "Ran 1960 tests to see what parameters combined produce the highest accuracy.\n"
     ]
    },
    {
     "data": {
      "text/plain": [
       "[({'max_depth': 5, 'max_features': 4, 'n_estimators': 20}, 1.0),\n",
       " ({'max_depth': 5, 'max_features': 6, 'n_estimators': 20}, 1.0),\n",
       " ({'max_depth': 5, 'max_features': 7, 'n_estimators': 20}, 1.0),\n",
       " ({'max_depth': 5, 'max_features': 9, 'n_estimators': 20}, 1.0),\n",
       " ({'max_depth': 5, 'max_features': 11, 'n_estimators': 20}, 1.0),\n",
       " ({'max_depth': 5, 'max_features': None, 'n_estimators': 20}, 1.0),\n",
       " ({'max_depth': 5, 'max_features': 6, 'n_estimators': 30}, 1.0),\n",
       " ({'max_depth': 5, 'max_features': 7, 'n_estimators': 30}, 1.0),\n",
       " ({'max_depth': 5, 'max_features': 8, 'n_estimators': 30}, 1.0),\n",
       " ({'max_depth': 5, 'max_features': 9, 'n_estimators': 30}, 1.0)]"
      ]
     },
     "execution_count": 23,
     "metadata": {},
     "output_type": "execute_result"
    }
   ],
   "source": [
    "from operator import itemgetter\n",
    "\n",
    "def accuracySimple(X, y, **kwargs):\n",
    "    myclf = RandomForestClassifier(random_state=22, **kwargs)\n",
    "    myclf = myclf.fit(X, y)\n",
    "    y_pred = myclf.predict(X)\n",
    "    return metrics.accuracy_score(y, y_pred)\n",
    "\n",
    "tests = []\n",
    "\n",
    "test_count = len(depths) * len(estimators) * len(features)\n",
    "print('Ran ' + str(test_count) + ' tests to see what parameters combined produce the highest accuracy.')\n",
    "\n",
    "# This is quite CPU intensive. Test every parameter combination and return the highest accuracy that we got.\n",
    "for depth in depths:\n",
    "    for estimator in estimators:\n",
    "        for feature in features:\n",
    "            params = {'max_depth': depth, 'n_estimators': estimator, 'max_features': feature}\n",
    "            score = accuracySimple(X_test2, y_test2, **params)\n",
    "            # insert every param combination with the accuracy score in a tuple.\n",
    "            tests.append((params, score))\n",
    "\n",
    "# Show top 10 results with highest accuracy.\n",
    "sorted(tests, key=itemgetter(1), reverse=True)[:10]"
   ]
  },
  {
   "cell_type": "markdown",
   "metadata": {},
   "source": [
    "## Prediction"
   ]
  },
  {
   "cell_type": "markdown",
   "metadata": {},
   "source": [
    "The `RandomForestClassifier` seems somewhat more accurate. Now let's predict something!"
   ]
  },
  {
   "cell_type": "code",
   "execution_count": 24,
   "metadata": {
    "collapsed": false
   },
   "outputs": [],
   "source": [
    "# Now insert ALL data we have to train the model.\n",
    "clf_real = RandomForestClassifier(n_estimators=20, max_depth=5, max_features=4)\n",
    "\n",
    "clf_real = clf_real.fit(df_X2, df_y)"
   ]
  },
  {
   "cell_type": "code",
   "execution_count": 25,
   "metadata": {
    "collapsed": true
   },
   "outputs": [],
   "source": [
    "def predict(X):\n",
    "    # we could also simply use an array, but allowing to use\n",
    "    # tuples [(feature_name, value)] makes it much easier to read.\n",
    "    X_values = [v for k,v in X]\n",
    "\n",
    "    prediction = clf_real.predict(X_values)[0]\n",
    "\n",
    "    # The prediction outcomes can be 0, 1, 2, 3 or 4.\n",
    "    # Unfortunately we only know that 0 means there is no heart disease.\n",
    "    if prediction == 0:\n",
    "        print('This patient should not have a heart disease!')\n",
    "    else:\n",
    "        print('This patient has diagnosis number ' + str(prediction) + '.')"
   ]
  },
  {
   "cell_type": "code",
   "execution_count": 26,
   "metadata": {
    "collapsed": false
   },
   "outputs": [
    {
     "name": "stdout",
     "output_type": "stream",
     "text": [
      "This patient has diagnosis number 2.\n"
     ]
    }
   ],
   "source": [
    "predict([\n",
    "    ('cp', 4),\n",
    "    ('trestbps', 160),\n",
    "    ('chol', 286),\n",
    "    ('fbs', 0),\n",
    "    ('restecg', 2),\n",
    "    ('thalach', 108),\n",
    "    ('exang', 1),\n",
    "    ('oldpeak', 1.5),\n",
    "    ('slope', 2),\n",
    "    ('ca', 3.1),\n",
    "    ('thal', 3.1)\n",
    "])"
   ]
  },
  {
   "cell_type": "code",
   "execution_count": 27,
   "metadata": {
    "collapsed": false
   },
   "outputs": [
    {
     "name": "stdout",
     "output_type": "stream",
     "text": [
      "This patient should not have a heart disease!\n"
     ]
    }
   ],
   "source": [
    "predict([\n",
    "    ('cp', 2),\n",
    "    ('trestbps', 135),\n",
    "    ('chol', 204),\n",
    "    ('fbs', 0),\n",
    "    ('restecg', 2),\n",
    "    ('thalach', 172),\n",
    "    ('exang', 0),\n",
    "    ('oldpeak', 1.4),\n",
    "    ('slope', 1),\n",
    "    ('ca', 0.0),\n",
    "    ('thal', 3.0)\n",
    "])"
   ]
  }
 ],
 "metadata": {
  "kernelspec": {
   "display_name": "Python 3",
   "language": "python",
   "name": "python3"
  },
  "language_info": {
   "codemirror_mode": {
    "name": "ipython",
    "version": 3
   },
   "file_extension": ".py",
   "mimetype": "text/x-python",
   "name": "python",
   "nbconvert_exporter": "python",
   "pygments_lexer": "ipython3",
   "version": "3.4.3"
  }
 },
 "nbformat": 4,
 "nbformat_minor": 0
}
