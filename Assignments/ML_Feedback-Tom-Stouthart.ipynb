{
 "cells": [
  {
   "cell_type": "markdown",
   "metadata": {},
   "source": [
    "# <font color=blue>Feedback</font>\n",
    "By: Tom Stouthart\n",
    "\n",
    "For: Kees Kluskens\n",
    "\n",
    "\n",
    "\n",
    "## ML 2 en 3\n",
    "Dit zijn de introductie opdrachten en die zien er goed uit. Hier heb ik verder geen feedback op.\n",
    "## ML 4\n",
    "Hier is het wellicht handig om te laten zien wat je precies hebt geprobeerd. Dan heb ik het over de opdrachten onderaan het Notebook. Ik heb bij week 4 bijvoorbeeld tussen de al bestaande code apart gezet wat ik heb geprobeerd en zo kun je zien wat er gebeurt en of de 'Accuracy' wel of niet verbeterd.\n",
    "## ML 5\n",
    "Het is handig als je hier wat meer comments bij de code zet; leg uit wat je doet. Verder ziet het er netjes uit.\n",
    "## ML 6\n",
    "Ook hier zou ik wat meer uitleggen. Het hoeven geen lange zinnen te zijn. Een korte beschrijving van bijvoorbeeld de functionaliteit is al genoeg.\n",
    "## ML 7\n",
    "Ziet er goed uit. Wellicht een toelichting (comments), maar het is niet persee nodig.\n",
    "## ML 10\n",
    "Ziet er netjes uit. Bij deze opdracht gebruik je vooral functionaliteiten die in het voorbeeld zijn gebruikt, zoals de bedoeling is. Hier is het niet nodig om uit te leggen wat je doet, omdat dit in het voorbeeld al goed wordt uitgelegd.\n",
    "## ML 12\n",
    "Volgens mij hebben we deze opdracht samen in de les gemaakt. De code is overzichtelijk en duidelijk.\n",
    "## ML 13\n",
    "Ik zou bij biede cases meer uitleg geven. Bij het 'Predicting' gedeelte in 'Case 1' heb je dit bijvoorbeeld al gedaan.\n",
    "Ik heb 'ML 13' nog niet van andere medestudenten gezien, maar ik denk dat je er een mooie eigen draai aan hebt gegeven."
   ]
  }
 ],
 "metadata": {
  "kernelspec": {
   "display_name": "Python 3",
   "language": "python",
   "name": "python3"
  },
  "language_info": {
   "codemirror_mode": {
    "name": "ipython",
    "version": 3
   },
   "file_extension": ".py",
   "mimetype": "text/x-python",
   "name": "python",
   "nbconvert_exporter": "python",
   "pygments_lexer": "ipython3",
   "version": "3.4.3"
  }
 },
 "nbformat": 4,
 "nbformat_minor": 0
}
