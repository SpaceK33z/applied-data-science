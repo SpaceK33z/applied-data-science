{
 "cells": [
  {
   "cell_type": "markdown",
   "metadata": {},
   "source": [
    "# ADS-DV Week 4 Assignment 1\n",
    "\n",
    "# Redesigning a failed chart\n",
    "\n",
    "## Summary\n",
    "In this assignment you will redesign a failed plot, to practice the guidelines and rules for creating plots.\n",
    "\n",
    "## Assignment\n",
    "Find a complex enough chart that seems to have gone wrong in some aspects, e.g. here http://viz.wtf/. If you are unsure about the complexity, ask your teacher. If you think it is hard to start you can read up on how to create infographics in the following document: <a href=\"resources/InfographicsDesignProcess.pdf\">Infographics Design Process</a>.\n",
    "\n",
    "Recreate the plot but make an improved version. You can use fake data if you don't have the actual data. You are allowed to change the chart type. Include both a screenshot of the original and the result of your redesign in your solution.\n",
    "\n",
    "Describe your design process by talking about data types, design rules, visual encoding, use of color and any other consideration you have made.\n",
    "\n",
    "You are allowed to use any tool you think is best suited for the task, e.g. Python, Tableau, Illustrator or even accurate hand-drawings."
   ]
  },
  {
   "cell_type": "markdown",
   "metadata": {
    "collapsed": true
   },
   "source": [
    "## Solution"
   ]
  },
  {
   "cell_type": "markdown",
   "metadata": {
    "collapsed": true
   },
   "source": [
    "<img src=\"dv-week4/bad-chart.png\">\n",
    "\n",
    "[Source](http://viz.wtf/post/133739525206/are-those-grid-lines)"
   ]
  },
  {
   "cell_type": "markdown",
   "metadata": {
    "collapsed": true
   },
   "source": [
    "A couple of things are completely wrong with this chart.\n",
    "The lines under the labels are very confusing, because they point to the chart but have nothing to do with the chart.\n",
    "It is _very_ hard to distinguish the colors in the chart because of the low contrast.\n",
    "Also, the chart is 3D in a weird manner; it works as a pie chart AND a sort of bar chart."
   ]
  },
  {
   "cell_type": "markdown",
   "metadata": {},
   "source": [
    "### Redesigning"
   ]
  },
  {
   "cell_type": "markdown",
   "metadata": {},
   "source": [
    "I first looked at using a pie chart. That would be misleading, because if you sum the capital raised, you don't get the total capital raised.\n",
    "\n",
    "I wanted to focus on simplicity, so you can read the chart as fast as possible without having to compare a label to a legend to get the age.\n",
    "So I started with a vertical bar chart.\n",
    "\n",
    "The age range that raised the most capital is the most interesting, so I sorted it on capital raised.\n",
    "To quickly distinguish between the age ranges, I added colors.\n",
    "The x-axis showed rougly what the capital raised was in hundred millions. This wasn't accurate enough, so I added a label in the bar with the capital raised in million dollars.\n",
    "Now the x-axis labels were kinda unnecessary, so I removed these. I removed any borders that were inserted by Tableau to keep the visual elements to a minimum."
   ]
  },
  {
   "cell_type": "markdown",
   "metadata": {},
   "source": [
    "<img src=\"dv-week4/better-chart.png\">"
   ]
  }
 ],
 "metadata": {
  "kernelspec": {
   "display_name": "Python 3",
   "language": "python",
   "name": "python3"
  },
  "language_info": {
   "codemirror_mode": {
    "name": "ipython",
    "version": 3
   },
   "file_extension": ".py",
   "mimetype": "text/x-python",
   "name": "python",
   "nbconvert_exporter": "python",
   "pygments_lexer": "ipython3",
   "version": "3.4.3"
  }
 },
 "nbformat": 4,
 "nbformat_minor": 0
}
