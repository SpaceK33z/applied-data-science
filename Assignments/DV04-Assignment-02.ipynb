{
 "cells": [
  {
   "cell_type": "markdown",
   "metadata": {},
   "source": [
    "# ADS-DV Week 4 Assignment 2\n",
    "\n",
    "# Adding value to an article using visualizations\n",
    "\n",
    "## Summary\n",
    "In this assignment you will practice choosing the right chart types and applying the design rules and general guidelines from scratch.\n",
    "\n",
    "## Assignment\n",
    "\n",
    "Nowadays, newspapers and magazines are full with infographics and data visualizations. But still some articles choose not to use any, but could very well use one or two.\n",
    "\n",
    "Your task is to add (at least) **two** infographics/data visualizations to this New Yorker article. Browse the text and find a greatly missed opportunity for a graphic, then using data from the text and if needed your own imagination, create one. You are free in choosing a tool. If you use Python then add your source code below. ** Explain the design choices you've made in detail, like in assignment 1! ** Also answer the question what the plot wants to show or explain and how your design helps with that.\n",
    "\n",
    "http://www.newyorker.com/magazine/2013/01/07/adaptation-2\n",
    "\n",
    "If you think it is hard to start you can read up on how to create infographics in the following document: <a href=\"resources/InfographicsDesignProcess.pdf\">Infographics Design Process</a>.\n"
   ]
  },
  {
   "cell_type": "markdown",
   "metadata": {},
   "source": [
    "## Solution"
   ]
  },
  {
   "cell_type": "markdown",
   "metadata": {
    "collapsed": true
   },
   "source": [
    "<img src=\"dv-week4/deaths-related.png\">\n",
    "\n",
    "This should be next to the first paragraph. It tries to put the Chicago heat wave in perspective, so you have something to compare the death count to.\n",
    "\n",
    "I first started searching for [natural disasters around 1995](https://en.wikipedia.org/wiki/List_of_natural_disasters_in_the_United_States). I put the top disasters in a spreadsheet with the death count next to it.\n",
    "\n",
    "A horizontal bar chart was quickly chosen, because it reads the most natural; on the left you see the name of the disaster, and next to it you can see the bar. It is sorted on death count."
   ]
  },
  {
   "cell_type": "markdown",
   "metadata": {},
   "source": [
    "<img src=\"dv-week4/deaths-percent.png\">\n",
    "\n",
    "This should be next to the second paragraph. It tries to show which neighborhoods were the most effected, and put into a perspective how much Englewood was hit. From the text this wasn't clear, because for Englewood they use 'per 100 citizens', and for the other two neighborhoods mentioned 'per 100.000 citizens'.\n",
    "\n",
    "I found the death count for some other neighborhoods on [Chicago Now](http://www.chicagonow.com/chicago-muckrakers/2011/07/the-1995-heat-wave-reflected-chicagos-geography-of-vulnerability/), and converted this to percentages."
   ]
  },
  {
   "cell_type": "markdown",
   "metadata": {},
   "source": [
    "## Optional assignment\n",
    "Attempt to add metaphoric elements to your plot to create a true infographic. We will return to metaphoric thinking in a later lesson."
   ]
  },
  {
   "cell_type": "code",
   "execution_count": null,
   "metadata": {
    "collapsed": true
   },
   "outputs": [],
   "source": [
    "# your inforgraphic here"
   ]
  }
 ],
 "metadata": {
  "kernelspec": {
   "display_name": "Python 3",
   "language": "python",
   "name": "python3"
  },
  "language_info": {
   "codemirror_mode": {
    "name": "ipython",
    "version": 3
   },
   "file_extension": ".py",
   "mimetype": "text/x-python",
   "name": "python",
   "nbconvert_exporter": "python",
   "pygments_lexer": "ipython3",
   "version": "3.4.3"
  }
 },
 "nbformat": 4,
 "nbformat_minor": 0
}
