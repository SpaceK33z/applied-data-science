{
 "cells": [
  {
   "cell_type": "markdown",
   "metadata": {},
   "source": [
    "# ADS-DV Week 2 Assignment 4\n",
    "# Project-to-Group Matchin 2015 and Heatmaps\n",
    "\n",
    "## Summary\n",
    "This assignment lets you create a heat map based on your votes for the professional task projects.\n",
    "\n",
    "## The voting data\n",
    "\n",
    "First we define the list of companies and ADS professional task groups."
   ]
  },
  {
   "cell_type": "code",
   "execution_count": 2,
   "metadata": {
    "collapsed": true
   },
   "outputs": [],
   "source": [
    "companies = ('8Vance', 'Philips HC', 'PSV', 'Coosto', 'Orikami','Score','Heemskerk','Mirabeau')\n",
    "groups = ('TheTree','Team+','A-Team','Tim','Arwin','Wesley','Tom','Sander')"
   ]
  },
  {
   "cell_type": "markdown",
   "metadata": {},
   "source": [
    "Then, we collect all group preferences 1 to 8 from the e-mails received."
   ]
  },
  {
   "cell_type": "code",
   "execution_count": 4,
   "metadata": {
    "collapsed": false
   },
   "outputs": [],
   "source": [
    "votes = [\n",
    "    (6,3,7,1,4,8,5,2),\n",
    "    (6,7,3,2,4,8,1,5),\n",
    "    (3,1,6,2,5,8,4,7),\n",
    "    (5,1,2,4,6,8,3,7),\n",
    "    (2,6,6,1,6,6,3,4),\n",
    "    (6,4,3,1,4,8,2,7),\n",
    "    (3,4,6,1,7,5,2,8),\n",
    "    (5,3,7,2,8,6,1,4)\n",
    "]"
   ]
  },
  {
   "cell_type": "code",
   "execution_count": null,
   "metadata": {
    "collapsed": true
   },
   "outputs": [],
   "source": []
  },
  {
   "cell_type": "markdown",
   "metadata": {},
   "source": [
    "We now put all data into a Pandas dataframe for possibly easy manipulation."
   ]
  },
  {
   "cell_type": "code",
   "execution_count": 5,
   "metadata": {
    "collapsed": false
   },
   "outputs": [
    {
     "data": {
      "text/html": [
       "<div>\n",
       "<table border=\"1\" class=\"dataframe\">\n",
       "  <thead>\n",
       "    <tr style=\"text-align: right;\">\n",
       "      <th></th>\n",
       "      <th>8Vance</th>\n",
       "      <th>Philips HC</th>\n",
       "      <th>PSV</th>\n",
       "      <th>Coosto</th>\n",
       "      <th>Orikami</th>\n",
       "      <th>Score</th>\n",
       "      <th>Heemskerk</th>\n",
       "      <th>Mirabeau</th>\n",
       "    </tr>\n",
       "  </thead>\n",
       "  <tbody>\n",
       "    <tr>\n",
       "      <th>TheTree</th>\n",
       "      <td>6</td>\n",
       "      <td>3</td>\n",
       "      <td>7</td>\n",
       "      <td>1</td>\n",
       "      <td>4</td>\n",
       "      <td>8</td>\n",
       "      <td>5</td>\n",
       "      <td>2</td>\n",
       "    </tr>\n",
       "    <tr>\n",
       "      <th>Team+</th>\n",
       "      <td>6</td>\n",
       "      <td>7</td>\n",
       "      <td>3</td>\n",
       "      <td>2</td>\n",
       "      <td>4</td>\n",
       "      <td>8</td>\n",
       "      <td>1</td>\n",
       "      <td>5</td>\n",
       "    </tr>\n",
       "    <tr>\n",
       "      <th>A-Team</th>\n",
       "      <td>3</td>\n",
       "      <td>1</td>\n",
       "      <td>6</td>\n",
       "      <td>2</td>\n",
       "      <td>5</td>\n",
       "      <td>8</td>\n",
       "      <td>4</td>\n",
       "      <td>7</td>\n",
       "    </tr>\n",
       "    <tr>\n",
       "      <th>Tim</th>\n",
       "      <td>5</td>\n",
       "      <td>1</td>\n",
       "      <td>2</td>\n",
       "      <td>4</td>\n",
       "      <td>6</td>\n",
       "      <td>8</td>\n",
       "      <td>3</td>\n",
       "      <td>7</td>\n",
       "    </tr>\n",
       "    <tr>\n",
       "      <th>Arwin</th>\n",
       "      <td>2</td>\n",
       "      <td>6</td>\n",
       "      <td>6</td>\n",
       "      <td>1</td>\n",
       "      <td>6</td>\n",
       "      <td>6</td>\n",
       "      <td>3</td>\n",
       "      <td>4</td>\n",
       "    </tr>\n",
       "    <tr>\n",
       "      <th>Wesley</th>\n",
       "      <td>6</td>\n",
       "      <td>4</td>\n",
       "      <td>3</td>\n",
       "      <td>1</td>\n",
       "      <td>4</td>\n",
       "      <td>8</td>\n",
       "      <td>2</td>\n",
       "      <td>7</td>\n",
       "    </tr>\n",
       "    <tr>\n",
       "      <th>Tom</th>\n",
       "      <td>3</td>\n",
       "      <td>4</td>\n",
       "      <td>6</td>\n",
       "      <td>1</td>\n",
       "      <td>7</td>\n",
       "      <td>5</td>\n",
       "      <td>2</td>\n",
       "      <td>8</td>\n",
       "    </tr>\n",
       "    <tr>\n",
       "      <th>Sander</th>\n",
       "      <td>5</td>\n",
       "      <td>3</td>\n",
       "      <td>7</td>\n",
       "      <td>2</td>\n",
       "      <td>8</td>\n",
       "      <td>6</td>\n",
       "      <td>1</td>\n",
       "      <td>4</td>\n",
       "    </tr>\n",
       "  </tbody>\n",
       "</table>\n",
       "</div>"
      ],
      "text/plain": [
       "         8Vance  Philips HC  PSV  Coosto  Orikami  Score  Heemskerk  Mirabeau\n",
       "TheTree       6           3    7       1        4      8          5         2\n",
       "Team+         6           7    3       2        4      8          1         5\n",
       "A-Team        3           1    6       2        5      8          4         7\n",
       "Tim           5           1    2       4        6      8          3         7\n",
       "Arwin         2           6    6       1        6      6          3         4\n",
       "Wesley        6           4    3       1        4      8          2         7\n",
       "Tom           3           4    6       1        7      5          2         8\n",
       "Sander        5           3    7       2        8      6          1         4"
      ]
     },
     "execution_count": 5,
     "metadata": {},
     "output_type": "execute_result"
    }
   ],
   "source": [
    "import pandas as pd\n",
    "\n",
    "df = pd.DataFrame(votes, columns=companies, index=groups)\n",
    "df.head(8)"
   ]
  },
  {
   "cell_type": "markdown",
   "metadata": {},
   "source": [
    "## Ranking all possible matches\n",
    "\n",
    "We're using a ranked voting system. For every possible matching we compute the impopularity by summing the ranking. We then use the matching with the lowest impopularity.\n",
    "\n",
    "Let's try to solve this (rather inefficiently) with brute force, but first let's see if this is feasable. We need to test 8! combinations, which are all the permutations of the 8 possible matches and should be still doable."
   ]
  },
  {
   "cell_type": "code",
   "execution_count": 6,
   "metadata": {
    "collapsed": false
   },
   "outputs": [
    {
     "name": "stdout",
     "output_type": "stream",
     "text": [
      "40320\n"
     ]
    }
   ],
   "source": [
    "import math, itertools\n",
    "combinations = math.factorial(8)\n",
    "print(combinations)\n",
    "permutations = list(itertools.permutations(range(8)))"
   ]
  },
  {
   "cell_type": "markdown",
   "metadata": {},
   "source": [
    "Now we compute the impopularity score for each match by looping over all permutations, and store the score with each permutation."
   ]
  },
  {
   "cell_type": "code",
   "execution_count": 7,
   "metadata": {
    "collapsed": false
   },
   "outputs": [
    {
     "name": "stdout",
     "output_type": "stream",
     "text": [
      "((0, 1, 2, 3, 4, 5, 6, 7), 43)\n",
      "((0, 1, 2, 3, 4, 5, 7, 6), 46)\n",
      "((0, 1, 2, 3, 4, 6, 5, 7), 40)\n",
      "((0, 1, 2, 3, 4, 6, 7, 5), 45)\n",
      "((0, 1, 2, 3, 4, 7, 5, 6), 42)\n",
      "((0, 1, 2, 3, 4, 7, 6, 5), 44)\n",
      "((0, 1, 2, 3, 5, 4, 6, 7), 39)\n",
      "((0, 1, 2, 3, 5, 4, 7, 6), 42)\n",
      "((0, 1, 2, 3, 5, 6, 4, 7), 42)\n",
      "((0, 1, 2, 3, 5, 6, 7, 4), 47)\n"
     ]
    }
   ],
   "source": [
    "scores = []\n",
    "for permutation in permutations:\n",
    "    sum = 0\n",
    "    for group in range(8):\n",
    "        sum += df.iloc[group, permutation[group]]\n",
    "    scores.append((permutation, sum))\n",
    "\n",
    "print('\\n'.join(map(str,scores[0:10])))"
   ]
  },
  {
   "cell_type": "markdown",
   "metadata": {},
   "source": [
    "We then sort the list on the impopularity score."
   ]
  },
  {
   "cell_type": "code",
   "execution_count": 8,
   "metadata": {
    "collapsed": false
   },
   "outputs": [
    {
     "name": "stdout",
     "output_type": "stream",
     "text": [
      "((7, 4, 1, 2, 0, 3, 5, 6), 18)\n",
      "((7, 3, 1, 2, 0, 4, 5, 6), 19)\n",
      "((7, 6, 1, 2, 0, 4, 3, 5), 19)\n",
      "((7, 6, 1, 2, 0, 4, 5, 3), 19)\n",
      "((3, 6, 1, 2, 0, 4, 5, 7), 20)\n",
      "((4, 6, 1, 2, 0, 3, 5, 7), 20)\n",
      "((7, 2, 0, 1, 3, 4, 5, 6), 20)\n",
      "((7, 2, 3, 1, 0, 4, 5, 6), 20)\n",
      "((7, 2, 4, 1, 0, 3, 5, 6), 20)\n",
      "((7, 4, 0, 1, 3, 2, 5, 6), 20)\n"
     ]
    }
   ],
   "source": [
    "sorted_scores = sorted(scores, key=lambda tup: tup[1])\n",
    "print('\\n'.join(map(str,sorted_scores[0:10])))"
   ]
  },
  {
   "cell_type": "markdown",
   "metadata": {},
   "source": [
    "We now filter out all the matchings that have the same lowest score, ideally this will yield only one result."
   ]
  },
  {
   "cell_type": "code",
   "execution_count": 9,
   "metadata": {
    "collapsed": false
   },
   "outputs": [
    {
     "name": "stdout",
     "output_type": "stream",
     "text": [
      "((7, 4, 1, 2, 0, 3, 5, 6), 18)\n"
     ]
    }
   ],
   "source": [
    "best_scores = list(filter(lambda tup: tup[1] == sorted_scores[0][1], sorted_scores))\n",
    "print('\\n'.join(map(str,best_scores)))"
   ]
  },
  {
   "cell_type": "markdown",
   "metadata": {},
   "source": [
    "## Result\n",
    "\n",
    "Now we convert our best matching(s) to a more human-readable form, by using the group and company names."
   ]
  },
  {
   "cell_type": "code",
   "execution_count": 10,
   "metadata": {
    "collapsed": false
   },
   "outputs": [
    {
     "name": "stdout",
     "output_type": "stream",
     "text": [
      "Option: ((7, 4, 1, 2, 0, 3, 5, 6), 18)\n",
      "=======================================================\n",
      "TheTree\t\t\tMirabeau\n",
      "Team+\t\t\tOrikami\n",
      "A-Team\t\t\tPhilips HC\n",
      "Tim\t\t\tPSV\n",
      "Arwin\t\t\t8Vance\n",
      "Wesley\t\t\tCoosto\n",
      "Tom\t\t\tScore\n",
      "Sander\t\t\tHeemskerk\n",
      "\n",
      "\n"
     ]
    }
   ],
   "source": [
    "for score in best_scores:\n",
    "    print('Option: ' + str(score))\n",
    "    print('=======================================================')\n",
    "    for group in range(8):\n",
    "        print(groups[group] + '\\t\\t\\t' + companies[score[0][group]])\n",
    "    print('\\n')"
   ]
  },
  {
   "cell_type": "markdown",
   "metadata": {},
   "source": [
    "## Assignment\n",
    "\n",
    "Finally, we want to show the votes in a heatmap.\n",
    "In addition you should use a scatter plot to plot the best score on the heat map.\n",
    "\n",
    "Hints: use ax.pcolor for the heatmap and the dataframe df as data.\n",
    "Use a colormap that makes sense for a heatmap.\n",
    "\n",
    "Do you agree with the best project-to-group matching?\n"
   ]
  },
  {
   "cell_type": "code",
   "execution_count": 17,
   "metadata": {
    "collapsed": false
   },
   "outputs": [
    {
     "name": "stderr",
     "output_type": "stream",
     "text": [
      "/Users/kees/anaconda/lib/python3.4/site-packages/matplotlib/collections.py:590: FutureWarning: elementwise comparison failed; returning scalar instead, but in the future will perform elementwise comparison\n",
      "  if self._edgecolors == str('face'):\n"
     ]
    },
    {
     "data": {
      "image/png": "[encoded data removed]",
      "text/plain": [
       "<matplotlib.figure.Figure at 0x10a361898>"
      ]
     },
     "metadata": {},
     "output_type": "display_data"
    }
   ],
   "source": [
    "import matplotlib.pyplot as plt\n",
    "import numpy as np\n",
    "%matplotlib inline\n",
    "\n",
    "fig, ax = plt.subplots(figsize=(8,6))\n",
    "\n",
    "ax.pcolor(df,cmap=plt.cm.Purples,alpha=0.8)\n",
    "ax.set_frame_on(False)\n",
    "ax.set_yticks(np.arange(df.shape[0]) + 0.5)\n",
    "ax.set_xticks(np.arange(df.shape[1]) + 0.5)\n",
    "ax.xaxis.tick_top()\n",
    "ax.set_xticklabels(companies)\n",
    "ax.set_yticklabels(df.index);\n",
    "\n",
    "plt.scatter(0.5 + np.array(best_scores[0][0]), np.arange(0.5,8,1))\n",
    "fig.tight_layout()"
   ]
  },
  {
   "cell_type": "code",
   "execution_count": null,
   "metadata": {
    "collapsed": true
   },
   "outputs": [],
   "source": []
  },
  {
   "cell_type": "markdown",
   "metadata": {},
   "source": [
    "This \"algorithm\" checks each company and selects the group that has the lowest number.\n",
    "The problem with this is that if all groups have given a company a high score, a group that doesn't necessarily like the company will get the company assigned."
   ]
  }
 ],
 "metadata": {
  "kernelspec": {
   "display_name": "Python 3",
   "language": "python",
   "name": "python3"
  },
  "language_info": {
   "codemirror_mode": {
    "name": "ipython",
    "version": 3
   },
   "file_extension": ".py",
   "mimetype": "text/x-python",
   "name": "python",
   "nbconvert_exporter": "python",
   "pygments_lexer": "ipython3",
   "version": "3.4.3"
  }
 },
 "nbformat": 4,
 "nbformat_minor": 0
}
